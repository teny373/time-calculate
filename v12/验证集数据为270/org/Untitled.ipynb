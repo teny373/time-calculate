{
 "cells": [
  {
   "cell_type": "code",
   "execution_count": null,
   "id": "92c92e67-29af-4ddc-827f-fd91045dbadb",
   "metadata": {},
   "outputs": [],
   "source": [
    "from ultralytics import YOLO\n",
    "\n",
    "# Load a pretrained model\n",
    "model = YOLO(\"best.pt\")\n",
    "\n",
    "# Train the model on your custom dataset\n",
    "model.train(data=\"/workspace/sci/270/org/--------.v2i.yolov12/data.yaml\", epochs=100, imgsz=640,device=0)"
   ]
  }
 ],
 "metadata": {
  "kernelspec": {
   "display_name": "Python3 (ipykernel)",
   "language": "python",
   "name": "python3"
  },
  "language_info": {
   "codemirror_mode": {
    "name": "ipython",
    "version": 3
   },
   "file_extension": ".py",
   "mimetype": "text/x-python",
   "name": "python",
   "nbconvert_exporter": "python",
   "pygments_lexer": "ipython3",
   "version": "3.12.3"
  }
 },
 "nbformat": 4,
 "nbformat_minor": 5
}
